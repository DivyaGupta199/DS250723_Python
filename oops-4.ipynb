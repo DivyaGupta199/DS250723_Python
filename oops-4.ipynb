{
 "cells": [
  {
   "cell_type": "code",
   "execution_count": null,
   "metadata": {},
   "outputs": [],
   "source": [
    "# getter and setter methods : \n"
   ]
  },
  {
   "cell_type": "markdown",
   "metadata": {},
   "source": [
    "# Public and private attributes : \n",
    "\n",
    "    "
   ]
  },
  {
   "cell_type": "code",
   "execution_count": 8,
   "metadata": {},
   "outputs": [
    {
     "name": "stdout",
     "output_type": "stream",
     "text": [
      "Sample class\n",
      "10\n",
      "20\n",
      "100\n"
     ]
    }
   ],
   "source": [
    "# Public attributes ( variablename )\n",
    "class xyz:\n",
    "    a = 10                     # static variable\n",
    "\n",
    "    def __init__(self):\n",
    "        print(\"Sample class\")\n",
    "        self.b= 20                            # instance variable\n",
    "        self.c = 30\n",
    "    \n",
    "    def display(self):\n",
    "        self.b = 40\n",
    "        print(self.b)\n",
    "\n",
    "obj = xyz()\n",
    "obj.c = 100\n",
    "print(obj.a)\n",
    "print(obj.b)\n",
    "print(obj.c)\n",
    "# obj.display()\n"
   ]
  },
  {
   "cell_type": "code",
   "execution_count": 10,
   "metadata": {},
   "outputs": [
    {
     "name": "stdout",
     "output_type": "stream",
     "text": [
      "Sample class\n",
      "200\n"
     ]
    }
   ],
   "source": [
    "# Protected attributes ( _variablename )\n",
    "class xyz:\n",
    "    _a = 10                     # static variable\n",
    "\n",
    "    def __init__(self):\n",
    "        print(\"Sample class\")\n",
    "        self._b= 20                            # instance variable\n",
    "        self._c = 30\n",
    "    \n",
    "    def display(self):\n",
    "        self._b = 40\n",
    "        print(self.b)\n",
    "\n",
    "obj = xyz()\n",
    "# obj.c = 100\n",
    "obj._a = 200\n",
    "print(obj._a)\n",
    "# print(obj.b)\n",
    "# print(obj.c)\n",
    "# obj.display()"
   ]
  },
  {
   "cell_type": "code",
   "execution_count": 13,
   "metadata": {},
   "outputs": [
    {
     "name": "stdout",
     "output_type": "stream",
     "text": [
      "Sample class\n",
      "10\n"
     ]
    },
    {
     "ename": "AttributeError",
     "evalue": "'xyz' object has no attribute '__a'",
     "output_type": "error",
     "traceback": [
      "\u001b[1;31m---------------------------------------------------------------------------\u001b[0m",
      "\u001b[1;31mAttributeError\u001b[0m                            Traceback (most recent call last)",
      "\u001b[1;32m~\\AppData\\Local\\Temp\\ipykernel_4456\\1307642457.py\u001b[0m in \u001b[0;36m<module>\u001b[1;34m\u001b[0m\n\u001b[0;32m     14\u001b[0m \u001b[0mobj\u001b[0m \u001b[1;33m=\u001b[0m \u001b[0mxyz\u001b[0m\u001b[1;33m(\u001b[0m\u001b[1;33m)\u001b[0m\u001b[1;33m\u001b[0m\u001b[1;33m\u001b[0m\u001b[0m\n\u001b[0;32m     15\u001b[0m \u001b[0mobj\u001b[0m\u001b[1;33m.\u001b[0m\u001b[0mdisplay\u001b[0m\u001b[1;33m(\u001b[0m\u001b[1;33m)\u001b[0m\u001b[1;33m\u001b[0m\u001b[1;33m\u001b[0m\u001b[0m\n\u001b[1;32m---> 16\u001b[1;33m \u001b[0mprint\u001b[0m\u001b[1;33m(\u001b[0m\u001b[0mobj\u001b[0m\u001b[1;33m.\u001b[0m\u001b[0m__a\u001b[0m\u001b[1;33m)\u001b[0m\u001b[1;33m\u001b[0m\u001b[1;33m\u001b[0m\u001b[0m\n\u001b[0m\u001b[0;32m     17\u001b[0m \u001b[0mobj\u001b[0m\u001b[1;33m.\u001b[0m\u001b[0m__a\u001b[0m \u001b[1;33m=\u001b[0m \u001b[1;36m200\u001b[0m\u001b[1;33m\u001b[0m\u001b[1;33m\u001b[0m\u001b[0m\n\u001b[0;32m     18\u001b[0m \u001b[0mprint\u001b[0m\u001b[1;33m(\u001b[0m\u001b[0mobj\u001b[0m\u001b[1;33m.\u001b[0m\u001b[0m__a\u001b[0m\u001b[1;33m)\u001b[0m\u001b[1;33m\u001b[0m\u001b[1;33m\u001b[0m\u001b[0m\n",
      "\u001b[1;31mAttributeError\u001b[0m: 'xyz' object has no attribute '__a'"
     ]
    }
   ],
   "source": [
    "# Private attributes ( __variablename )\n",
    "class xyz:\n",
    "    __a = 10                     # static variable\n",
    "\n",
    "    def __init__(self):\n",
    "        print(\"Sample class\")\n",
    "        self.__b= 20                            # instance variable\n",
    "        self.__c = 30\n",
    "    \n",
    "    def display(self):\n",
    "        self.__b = 40\n",
    "        print(self.__a)\n",
    "\n",
    "obj = xyz()\n",
    "obj.display()\n",
    "\n"
   ]
  },
  {
   "cell_type": "markdown",
   "metadata": {},
   "source": [
    "getter and setter methods are used to access and update the values of private attributes. It provides data security."
   ]
  },
  {
   "cell_type": "code",
   "execution_count": 30,
   "metadata": {},
   "outputs": [],
   "source": [
    "# getter and setter methods for accessing private attributes and changing there values\n",
    "\n",
    "class student:\n",
    "    __institute = \"Edyoda digital university\"\n",
    "    __roll_number = 1234\n",
    "\n",
    "    def __init__(self):\n",
    "        self.__name = \"abc\"\n",
    "        self.__course = \"Data science\"\n",
    "        self.__duration = \"6 Months\"\n",
    "\n",
    "    def __repr__(self):\n",
    "        print(self.__course)\n",
    "        return self.__duration\n",
    "\n",
    "    def set_name(self,your_name):\n",
    "        self.__name = your_name\n",
    "\n",
    "    def get_name(self):\n",
    "        print(self.__name)\n",
    "        # return self.__name\n",
    "\n",
    "    \n",
    "    def set_rollno(self,rollno):\n",
    "        self.__roll_number = rollno\n",
    "\n",
    "    def get_rollno(self):\n",
    "        print(self.__roll_number)\n",
    "        # return self.__name\n",
    "\n",
    "    "
   ]
  },
  {
   "cell_type": "code",
   "execution_count": null,
   "metadata": {},
   "outputs": [],
   "source": []
  },
  {
   "cell_type": "code",
   "execution_count": 31,
   "metadata": {},
   "outputs": [
    {
     "name": "stdout",
     "output_type": "stream",
     "text": [
      "abc\n",
      "Sita\n",
      "1234\n",
      "6789\n",
      "Data science\n",
      "6 Months\n"
     ]
    }
   ],
   "source": [
    "std = student()\n",
    "std.get_name()\n",
    "std.set_name(\"Sita\")\n",
    "std.get_name()\n",
    "std.get_rollno()\n",
    "std.set_rollno(6789)\n",
    "std.get_rollno()\n",
    "print(std)\n"
   ]
  },
  {
   "cell_type": "markdown",
   "metadata": {},
   "source": [
    "# Magic methods : This methods are also called as dunder methods, they are declared using __ before and after its name like __init__, __add__, __len__. This methods are used for operator overloading, this methods gets automatically called whenever there is a need.\n"
   ]
  },
  {
   "cell_type": "code",
   "execution_count": 23,
   "metadata": {},
   "outputs": [
    {
     "name": "stdout",
     "output_type": "stream",
     "text": [
      "5\n",
      "first_name Last_name\n",
      "23\n"
     ]
    }
   ],
   "source": [
    "print(2 + 3)\n",
    "print(\"first_name\" + \" Last_name\")\n",
    "print(\"2\" + \"3\")"
   ]
  },
  {
   "cell_type": "code",
   "execution_count": 26,
   "metadata": {},
   "outputs": [
    {
     "data": {
      "text/plain": [
       "'23'"
      ]
     },
     "execution_count": 26,
     "metadata": {},
     "output_type": "execute_result"
    }
   ],
   "source": [
    "\"2\".__add__(\"3\")"
   ]
  },
  {
   "cell_type": "code",
   "execution_count": 24,
   "metadata": {},
   "outputs": [
    {
     "data": {
      "text/plain": [
       "'python Class'"
      ]
     },
     "execution_count": 24,
     "metadata": {},
     "output_type": "execute_result"
    }
   ],
   "source": [
    "\"python\".__add__(\" Class\")"
   ]
  },
  {
   "cell_type": "code",
   "execution_count": 27,
   "metadata": {},
   "outputs": [
    {
     "data": {
      "text/plain": [
       "['__abs__',\n",
       " '__add__',\n",
       " '__and__',\n",
       " '__bool__',\n",
       " '__ceil__',\n",
       " '__class__',\n",
       " '__delattr__',\n",
       " '__dir__',\n",
       " '__divmod__',\n",
       " '__doc__',\n",
       " '__eq__',\n",
       " '__float__',\n",
       " '__floor__',\n",
       " '__floordiv__',\n",
       " '__format__',\n",
       " '__ge__',\n",
       " '__getattribute__',\n",
       " '__getnewargs__',\n",
       " '__gt__',\n",
       " '__hash__',\n",
       " '__index__',\n",
       " '__init__',\n",
       " '__init_subclass__',\n",
       " '__int__',\n",
       " '__invert__',\n",
       " '__le__',\n",
       " '__lshift__',\n",
       " '__lt__',\n",
       " '__mod__',\n",
       " '__mul__',\n",
       " '__ne__',\n",
       " '__neg__',\n",
       " '__new__',\n",
       " '__or__',\n",
       " '__pos__',\n",
       " '__pow__',\n",
       " '__radd__',\n",
       " '__rand__',\n",
       " '__rdivmod__',\n",
       " '__reduce__',\n",
       " '__reduce_ex__',\n",
       " '__repr__',\n",
       " '__rfloordiv__',\n",
       " '__rlshift__',\n",
       " '__rmod__',\n",
       " '__rmul__',\n",
       " '__ror__',\n",
       " '__round__',\n",
       " '__rpow__',\n",
       " '__rrshift__',\n",
       " '__rshift__',\n",
       " '__rsub__',\n",
       " '__rtruediv__',\n",
       " '__rxor__',\n",
       " '__setattr__',\n",
       " '__sizeof__',\n",
       " '__str__',\n",
       " '__sub__',\n",
       " '__subclasshook__',\n",
       " '__truediv__',\n",
       " '__trunc__',\n",
       " '__xor__',\n",
       " 'as_integer_ratio',\n",
       " 'bit_length',\n",
       " 'conjugate',\n",
       " 'denominator',\n",
       " 'from_bytes',\n",
       " 'imag',\n",
       " 'numerator',\n",
       " 'real',\n",
       " 'to_bytes']"
      ]
     },
     "execution_count": 27,
     "metadata": {},
     "output_type": "execute_result"
    }
   ],
   "source": [
    "dir(int)\n"
   ]
  },
  {
   "cell_type": "markdown",
   "metadata": {},
   "source": [
    "# Write a python class employee with attributes like emp_id, emp_name, emp_salary etc, and create the methods like\n",
    "calculate_annual_package, display_emp_current_department, and display emp_details ."
   ]
  },
  {
   "cell_type": "code",
   "execution_count": 34,
   "metadata": {},
   "outputs": [
    {
     "name": "stdout",
     "output_type": "stream",
     "text": [
      "Emp id :  ABC0123\n",
      " Employee Name : Ram\n",
      "  Current department : Finance\n",
      "Annual Package is :  120000\n",
      "The employee is working in Finance department\n"
     ]
    }
   ],
   "source": [
    "class employee:\n",
    "    __companyName = \"Google\"\n",
    "\n",
    "    def __init__(self,name,rollno,salary,dept):\n",
    "        self.emp_id = rollno\n",
    "        self.emp_name = name\n",
    "        self.salary = salary\n",
    "        self.dept = dept\n",
    "    \n",
    "\n",
    "    def __repr__(self):\n",
    "        return f\"Emp id :  {self.emp_id}\\n Employee Name : {self.emp_name}\\n  Current department : {self.dept}\"\n",
    "\n",
    "    def calculate_annual_package(self):\n",
    "        annual_salary = self.salary * 12\n",
    "        return annual_salary\n",
    "    \n",
    "    def get_department(self):\n",
    "        return self.dept\n",
    "    \n",
    "emp1 = employee(\"Ram\", \"ABC0123\", 10000 , \"Finance\")\n",
    "print(emp1)\n",
    "annual_package = emp1.calculate_annual_package()\n",
    "print(\"Annual Package is : \", annual_package)\n",
    "dept = emp1.get_department()\n",
    "print(f\"The employee is working in {dept} department\")\n",
    "\n",
    "\n",
    "    "
   ]
  }
 ],
 "metadata": {
  "kernelspec": {
   "display_name": "Python 3",
   "language": "python",
   "name": "python3"
  },
  "language_info": {
   "codemirror_mode": {
    "name": "ipython",
    "version": 3
   },
   "file_extension": ".py",
   "mimetype": "text/x-python",
   "name": "python",
   "nbconvert_exporter": "python",
   "pygments_lexer": "ipython3",
   "version": "3.9.13"
  },
  "orig_nbformat": 4
 },
 "nbformat": 4,
 "nbformat_minor": 2
}
