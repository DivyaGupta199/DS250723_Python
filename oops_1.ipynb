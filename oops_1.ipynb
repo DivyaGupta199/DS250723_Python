{
 "cells": [
  {
   "cell_type": "markdown",
   "metadata": {},
   "source": [
    "Object oriented programming : It is another way of programming, it groups similar function in one class, so that they can be placed as a single unit and the scope is limited to specific tasks. Here we divide our program in classes and objects, and whenever we need to use any method of that class we firstly make an object of respective class.\n",
    "\n",
    "Need of oops - \n",
    "1. It makes code cleaner and less complex.\n",
    "2. It gives us data security by the use of Encapsulation.\n",
    "3. DRY - Do not repeat yourself.\n"
   ]
  },
  {
   "cell_type": "code",
   "execution_count": null,
   "metadata": {},
   "outputs": [],
   "source": [
    "# In object oriented programming we bind attributes and behaviours of similar objects at one place called class.\n"
   ]
  },
  {
   "cell_type": "code",
   "execution_count": null,
   "metadata": {},
   "outputs": [],
   "source": [
    "# Procedural programming : \n",
    "a = 10\n",
    "b = 5\n",
    "print(a+b)"
   ]
  },
  {
   "cell_type": "code",
   "execution_count": null,
   "metadata": {},
   "outputs": [],
   "source": [
    "# Functional programming : \n",
    "def add():\n",
    "    a = int(input())\n",
    "    b = int(input())\n",
    "    return a+b\n"
   ]
  },
  {
   "cell_type": "code",
   "execution_count": 3,
   "metadata": {},
   "outputs": [
    {
     "data": {
      "text/plain": [
       "14"
      ]
     },
     "execution_count": 3,
     "metadata": {},
     "output_type": "execute_result"
    }
   ],
   "source": [
    "class calculator:\n",
    "    def add(self,a,b):\n",
    "        return a+b\n",
    "\n",
    "    def subs(self,a,b):\n",
    "        return a-b\n",
    "\n",
    "    def multiply(self,a,b):\n",
    "        return a*b\n",
    "\n",
    "    def divide(self,a,b):\n",
    "        return a/b\n",
    "\n",
    "obj = calculator()\n",
    "obj.add(10,4)\n",
    "obj.subs(15,6)\n"
   ]
  },
  {
   "cell_type": "markdown",
   "metadata": {},
   "source": [
    "# class - A class is a blueprint, It is made by binding the attributes and behaviours at one place, It does not take any memory in your system until an object of this class is made.\n",
    "\n",
    "# object - An object is an instance of a class.\n"
   ]
  },
  {
   "cell_type": "code",
   "execution_count": null,
   "metadata": {},
   "outputs": [],
   "source": [
    "lst.append()\n",
    "lst.pop()\n",
    "lst.extend()"
   ]
  },
  {
   "cell_type": "code",
   "execution_count": 11,
   "metadata": {},
   "outputs": [
    {
     "name": "stdout",
     "output_type": "stream",
     "text": [
      "2262390700368\n",
      "2262403656912\n",
      "2262375963696\n",
      "2262439602928\n",
      "This is the behaviour of this Bike\n"
     ]
    }
   ],
   "source": [
    "class Bike:\n",
    "    color = \"White\"\n",
    "    Brand = \"Hero\"\n",
    "    Average = 50\n",
    "\n",
    "# here a,b,c are attributes of this class\n",
    "\n",
    "    def riding(self):\n",
    "        print(\"This is the behaviour of this Bike\")\n",
    "\n",
    "print(id(Bike))\n",
    "# print(id(color))\n",
    "# print(id(Brand))\n",
    "my_bike = Bike()\n",
    "print(id(my_bike))\n",
    "my_bike.color = \"Black\"\n",
    "my_bike.Brand = \"Yamaha\"\n",
    "print(id(my_bike.color))\n",
    "print(id(my_bike.Brand))\n",
    "my_bike.Average = 40\n",
    "my_bike.riding()\n"
   ]
  },
  {
   "cell_type": "code",
   "execution_count": null,
   "metadata": {},
   "outputs": [],
   "source": [
    "# constructor :  It is a special method inside the class, named as __init__(). whatever code we write here,\n",
    "#  we don't need to explicitly call the contructor method to execute the code written in that method.\n",
    "# Whenever we make an object of that class, the constructor method gets automatically called.\n",
    "# It is used for making instance variables.\n",
    "\n",
    "\n"
   ]
  },
  {
   "cell_type": "code",
   "execution_count": 22,
   "metadata": {},
   "outputs": [
    {
     "name": "stdout",
     "output_type": "stream",
     "text": [
      "This is car class __init__ method\n",
      "Blue\n",
      "purple\n",
      "purple\n",
      "Moving\n",
      "White\n"
     ]
    }
   ],
   "source": [
    "class Car:\n",
    "    def __init__(self):\n",
    "        print(\"This is car class __init__ method\")\n",
    "        self.color = \"Blue\"\n",
    "\n",
    "    def property(self):\n",
    "        self.color = \"White\"\n",
    "        behaviour = \"Moving\"\n",
    "        print(\"Moving\")\n",
    "\n",
    "    def appearance(self):\n",
    "        self.color = \"purple\"\n",
    "        # print(behaviour)\n",
    "        print(self.color)\n",
    "\n",
    "obj = Car()\n",
    "print(obj.color)\n",
    "obj.appearance()\n",
    "print(obj.color)\n",
    "obj.property()\n",
    "print(obj.color)\n",
    "\n"
   ]
  },
  {
   "cell_type": "code",
   "execution_count": 19,
   "metadata": {},
   "outputs": [
    {
     "name": "stdout",
     "output_type": "stream",
     "text": [
      "20\n"
     ]
    }
   ],
   "source": [
    "a = 10 \n",
    "a = 20\n",
    "print(a)"
   ]
  }
 ],
 "metadata": {
  "kernelspec": {
   "display_name": "Python 3",
   "language": "python",
   "name": "python3"
  },
  "language_info": {
   "codemirror_mode": {
    "name": "ipython",
    "version": 3
   },
   "file_extension": ".py",
   "mimetype": "text/x-python",
   "name": "python",
   "nbconvert_exporter": "python",
   "pygments_lexer": "ipython3",
   "version": "3.9.13"
  },
  "orig_nbformat": 4
 },
 "nbformat": 4,
 "nbformat_minor": 2
}
