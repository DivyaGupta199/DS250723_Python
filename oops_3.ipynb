{
 "cells": [
  {
   "cell_type": "markdown",
   "metadata": {},
   "source": [
    "# Polymorphism : \n",
    "poly = many , morphism = forms\n",
    "\n",
    "Polymorphism defines the ability of a function to take different forms.\n",
    "multiple functions can have same name but different functionalities."
   ]
  },
  {
   "cell_type": "code",
   "execution_count": 1,
   "metadata": {},
   "outputs": [],
   "source": [
    "class A:\n",
    "    def A1(self):\n",
    "        print(\"This is function A1 of class A\")\n",
    "\n",
    "    def A2(self):\n",
    "        print(\"This is function A2 of class A\")\n",
    "\n",
    "class B(A):\n",
    "    def B1(self):\n",
    "        print(\"This is function B! of class B\")\n",
    "\n",
    "    def A2(self):\n",
    "        print(\"This is function A2 of class B, an example of polymorphism\")"
   ]
  },
  {
   "cell_type": "code",
   "execution_count": 2,
   "metadata": {},
   "outputs": [
    {
     "name": "stdout",
     "output_type": "stream",
     "text": [
      "This is function A1 of class A\n",
      "This is function A2 of class A\n"
     ]
    }
   ],
   "source": [
    "obj_A = A()\n",
    "obj_A.A1()\n",
    "obj_A.A2()"
   ]
  },
  {
   "cell_type": "code",
   "execution_count": 3,
   "metadata": {},
   "outputs": [
    {
     "name": "stdout",
     "output_type": "stream",
     "text": [
      "This is function A1 of class A\n",
      "This is function A2 of class B, an example of polymorphism\n",
      "This is function B! of class B\n"
     ]
    }
   ],
   "source": [
    "obj_B = B()\n",
    "obj_B.A1()\n",
    "obj_B.A2()\n",
    "obj_B.B1()"
   ]
  },
  {
   "cell_type": "code",
   "execution_count": null,
   "metadata": {},
   "outputs": [],
   "source": [
    "# Method overloading :   X  This is not supported by python\n",
    "# Method overriding : "
   ]
  },
  {
   "cell_type": "code",
   "execution_count": 4,
   "metadata": {},
   "outputs": [],
   "source": [
    "# Method overloading\n",
    "class A:\n",
    "    def A1(self,variable):\n",
    "        print(\"You have entered : \",variable)\n",
    "\n",
    "    def A1(self,variable1, variable2):\n",
    "        print(\"Method A1 is defined again with two parameters\")\n"
   ]
  },
  {
   "cell_type": "code",
   "execution_count": 7,
   "metadata": {},
   "outputs": [
    {
     "name": "stdout",
     "output_type": "stream",
     "text": [
      "Method A1 is defined again with two parameters\n"
     ]
    }
   ],
   "source": [
    "obj = A()\n",
    "obj.A1(\"abc\",\"xyz\")"
   ]
  },
  {
   "cell_type": "code",
   "execution_count": null,
   "metadata": {},
   "outputs": [],
   "source": [
    "# Method overriding : \n",
    "class A:\n",
    "    def A1(self):\n",
    "        print(\"This is function A1 of class A\")\n",
    "\n",
    "    def A2(self):\n",
    "        print(\"This is function A2 of class A\")\n",
    "\n",
    "class B(A):\n",
    "    def B1(self):\n",
    "        print(\"This is function B! of class B\")\n",
    "\n",
    "    def A2(self):\n",
    "        print(\"This is function A2 of class B, an example of polymorphism\")\n",
    "\n",
    "obj_B = B()\n",
    "obj_B.A1()\n",
    "obj_B.A2()\n",
    "obj_B.B1()"
   ]
  },
  {
   "cell_type": "markdown",
   "metadata": {},
   "source": [
    "# Abstraction : Hiding the unnecessary information from the user and showing only essential\n",
    "details is called abstraction\n",
    "# Abstract class : The class which has a abstract method.\n",
    "# Abstract Method : A method which has declaration but no implementation.\n",
    "# Concrete class : The class which does not have a concrete class.\n",
    "\n",
    "objects of abstract class cannot be made, it can be only for concrete classes.\n",
    "\n",
    "An abstract class is a blueprint for other class, it allows you to create a set of methods which must be created in the child class which is inheriting the abstract class. when you are working on large projects so it is not easy to remember all the functionalities and structure we have made, at that time abstraction helps us in giving an overview of the functionalities and structure of our project. "
   ]
  },
  {
   "cell_type": "code",
   "execution_count": 26,
   "metadata": {},
   "outputs": [],
   "source": [
    "from abc import ABC, abstractclassmethod\n",
    "\n",
    "\n",
    "class abstract_class(ABC):\n",
    "\n",
    "    @abstractclassmethod\n",
    "    def abs_method(self):\n",
    "        pass\n",
    "\n",
    "    def display(self):\n",
    "        pass\n",
    "\n",
    "    def method2(self):\n",
    "        pass\n",
    "\n",
    "# obj = abstract_class()\n",
    "# obj.display()"
   ]
  },
  {
   "cell_type": "code",
   "execution_count": 27,
   "metadata": {},
   "outputs": [],
   "source": [
    "class concrete_class(abstract_class):\n",
    "    def __init__(self):\n",
    "        print(\"This is a concrete class\")\n",
    "\n",
    "    def display(self):\n",
    "        print(\"Display function of concrete class\")\n",
    "\n",
    "    def abs_method(self):\n",
    "        print(\"abs_method of concrete class\")\n",
    "\n",
    "\n",
    "\n",
    "    "
   ]
  },
  {
   "cell_type": "code",
   "execution_count": 28,
   "metadata": {},
   "outputs": [
    {
     "name": "stdout",
     "output_type": "stream",
     "text": [
      "This is a concrete class\n"
     ]
    }
   ],
   "source": [
    "obj = concrete_class()\n",
    "obj.method2()"
   ]
  },
  {
   "cell_type": "code",
   "execution_count": null,
   "metadata": {},
   "outputs": [],
   "source": [
    "# Types of variables : \n",
    "1. global variables : The variables whose scope is throughout the program are called global variables.\n",
    "2. local variables : The variables which are created inside any method or class for meeting the\n",
    "temporary requirement are called as local variables, they cannot be accessed outside the body where they are created.\n",
    "\n",
    "3. static variable : This are also called as class variables, they donot vary from obj to obj.\n",
    "4. instance variable : The instance variables are defined inside the __init__method, they can vary from \n",
    "method to method."
   ]
  },
  {
   "cell_type": "code",
   "execution_count": 38,
   "metadata": {},
   "outputs": [],
   "source": [
    "a = 10                                 # global variables\n",
    "b = \"name\"\n",
    "class sample:\n",
    "    my_class_variable = \"This is a class/static variable\"      #static variable\n",
    "\n",
    "    def __init__(self):\n",
    "        self.name = \"Sample class\"                        # instance variables\n",
    "        self.display = \"This is instance variables\"\n",
    "\n",
    "    def method1(self):\n",
    "        my_variable = \"Local variables\"                   # local variable\n",
    "        self.name = \"updating the value of instance variable\"\n",
    "        print(\"Executing Method1 of sample class\")\n",
    "        print(self.name)\n",
    "        print(\"--------------------------------\")\n",
    "\n",
    "    def method2(self):\n",
    "        print(\"Executing Method2 of sample class\")\n",
    "        print(self.name)\n",
    "        print(\"-----------------------------------\")"
   ]
  },
  {
   "cell_type": "code",
   "execution_count": 39,
   "metadata": {},
   "outputs": [
    {
     "name": "stdout",
     "output_type": "stream",
     "text": [
      "Executing Method2 of sample class\n",
      "Sample class\n",
      "-----------------------------------\n",
      "Executing Method1 of sample class\n",
      "updating the value of instance variable\n",
      "--------------------------------\n",
      "Executing Method2 of sample class\n",
      "updating the value of instance variable\n",
      "-----------------------------------\n"
     ]
    }
   ],
   "source": [
    "obj = sample()\n",
    "obj.method2()\n",
    "obj.method1()\n",
    "obj.method2()"
   ]
  },
  {
   "cell_type": "code",
   "execution_count": 40,
   "metadata": {},
   "outputs": [
    {
     "name": "stdout",
     "output_type": "stream",
     "text": [
      "Executing Method2 of sample class\n",
      "Sample class\n",
      "-----------------------------------\n"
     ]
    }
   ],
   "source": [
    "obj2 = sample()\n",
    "obj2.method2()"
   ]
  }
 ],
 "metadata": {
  "kernelspec": {
   "display_name": "Python 3",
   "language": "python",
   "name": "python3"
  },
  "language_info": {
   "codemirror_mode": {
    "name": "ipython",
    "version": 3
   },
   "file_extension": ".py",
   "mimetype": "text/x-python",
   "name": "python",
   "nbconvert_exporter": "python",
   "pygments_lexer": "ipython3",
   "version": "3.9.13"
  },
  "orig_nbformat": 4
 },
 "nbformat": 4,
 "nbformat_minor": 2
}
