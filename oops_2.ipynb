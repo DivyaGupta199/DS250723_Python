{
 "cells": [
  {
   "cell_type": "code",
   "execution_count": null,
   "metadata": {},
   "outputs": [],
   "source": [
    "# Four pillars of oops :\n",
    "1. Encapsulation\n",
    "2. Inheritance\n",
    "3. Polymorphism\n",
    "4. Abstraction"
   ]
  },
  {
   "cell_type": "code",
   "execution_count": null,
   "metadata": {},
   "outputs": [],
   "source": [
    "Inheritance :  Inheritance allows us to inherit the properties of one class to another class."
   ]
  },
  {
   "cell_type": "code",
   "execution_count": 1,
   "metadata": {},
   "outputs": [],
   "source": [
    "class parent:\n",
    "    def land():\n",
    "        print(\"Land\")\n",
    "\n",
    "    def house():\n",
    "        print(\"House\")"
   ]
  },
  {
   "cell_type": "code",
   "execution_count": null,
   "metadata": {},
   "outputs": [],
   "source": [
    "class child(parent):\n",
    "    def car():\n",
    "        print(\"Car\")\n",
    "# Types of Inheritance :\n",
    "'''\n",
    "1. single Inheritance\n",
    "2. multiple Inheritance\n",
    "3. multi-level Inheritance\n",
    "4. Hierarchical Inheritance\n",
    "5. Hybrid Inheritance\n",
    "''' "
   ]
  },
  {
   "cell_type": "code",
   "execution_count": 6,
   "metadata": {},
   "outputs": [
    {
     "name": "stdout",
     "output_type": "stream",
     "text": [
      "Land\n",
      "House\n",
      "Car\n"
     ]
    }
   ],
   "source": [
    "# Single Inheritance : it is one to one relationship where one child class inherits one parent class.\n",
    "class parent:\n",
    "    def land(self):\n",
    "        print(\"Land\")\n",
    "\n",
    "    def house(self):\n",
    "        print(\"House\")\n",
    "\n",
    "class child(parent):\n",
    "    def car(self):\n",
    "        print(\"Car\")\n",
    "\n",
    "obj = child()\n",
    "obj.land()\n",
    "obj.house()\n",
    "obj.car()"
   ]
  },
  {
   "cell_type": "code",
   "execution_count": 8,
   "metadata": {},
   "outputs": [
    {
     "name": "stdout",
     "output_type": "stream",
     "text": [
      "Class A method\n",
      "Class B method\n",
      "class C Method\n"
     ]
    }
   ],
   "source": [
    "# Multi-level Inheritance : \n",
    "class A:\n",
    "    def fun_A(self):\n",
    "        print(\"Class A method\")\n",
    "\n",
    "class B(A):\n",
    "    def fun_B(self):\n",
    "        print(\"Class B method\")\n",
    "\n",
    "class C(B):\n",
    "    def fun_C(self):\n",
    "        print(\"class C Method\")\n",
    "\n",
    "obj = C()\n",
    "obj.fun_A()\n",
    "obj.fun_B()\n",
    "obj.fun_C()"
   ]
  },
  {
   "cell_type": "code",
   "execution_count": 9,
   "metadata": {},
   "outputs": [
    {
     "name": "stdout",
     "output_type": "stream",
     "text": [
      "Class A method\n",
      "Class B method\n",
      "class C Method\n"
     ]
    }
   ],
   "source": [
    "# Multiple Inheritance : \n",
    "class A:\n",
    "    def fun_A(self):\n",
    "        print(\"Class A method\")\n",
    "\n",
    "class B:\n",
    "    def fun_B(self):\n",
    "        print(\"Class B method\")\n",
    "\n",
    "class C(A,B):\n",
    "    def fun_C(self):\n",
    "        print(\"class C Method\")\n",
    "\n",
    "obj = C()\n",
    "obj.fun_A()\n",
    "obj.fun_B()\n",
    "obj.fun_C()"
   ]
  },
  {
   "cell_type": "code",
   "execution_count": 11,
   "metadata": {},
   "outputs": [
    {
     "name": "stdout",
     "output_type": "stream",
     "text": [
      "Class A method\n",
      "class C Method\n"
     ]
    }
   ],
   "source": [
    "# Hierarchical Inheritance : \n",
    "class A:\n",
    "    def fun_A(self):\n",
    "        print(\"Class A method\")\n",
    "\n",
    "class B(A):\n",
    "    def fun_B(self):\n",
    "        print(\"Class B method\")\n",
    "\n",
    "class C(A):\n",
    "    def fun_C(self):\n",
    "        print(\"class C Method\")\n",
    "\n",
    "obj = C()\n",
    "obj.fun_A()\n",
    "# obj.fun_B()\n",
    "obj.fun_C()"
   ]
  },
  {
   "cell_type": "code",
   "execution_count": null,
   "metadata": {},
   "outputs": [],
   "source": [
    "# Hybrid Inheritance :\n",
    "class A:\n",
    "    def fun_A(self):\n",
    "        print(\"Class A method\")\n",
    "\n",
    "class B(A):\n",
    "    def fun_B(self):\n",
    "        print(\"Class B method\")\n",
    "\n",
    "class C(A):\n",
    "    def fun_C(self):\n",
    "        print(\"class C Method\")\n",
    "\n",
    "class D(C):\n",
    "    def fun_D(self):\n",
    "        print(\"class D Method\")\n",
    "\n",
    "class E(B,D):\n",
    "    def fun_E(self):\n",
    "        print(\"class E Method\")"
   ]
  },
  {
   "cell_type": "code",
   "execution_count": null,
   "metadata": {},
   "outputs": [],
   "source": [
    "# Encapsulation : Wrapping up of attributes and behaviour at one place is called as Encapsulation."
   ]
  },
  {
   "cell_type": "code",
   "execution_count": null,
   "metadata": {},
   "outputs": [],
   "source": []
  },
  {
   "cell_type": "code",
   "execution_count": 13,
   "metadata": {},
   "outputs": [
    {
     "name": "stdout",
     "output_type": "stream",
     "text": [
      "abc\n",
      "The name of person is abc\n"
     ]
    },
    {
     "ename": "NameError",
     "evalue": "name 'self' is not defined",
     "output_type": "error",
     "traceback": [
      "\u001b[1;31m---------------------------------------------------------------------------\u001b[0m",
      "\u001b[1;31mNameError\u001b[0m                                 Traceback (most recent call last)",
      "\u001b[1;32m~\\AppData\\Local\\Temp\\ipykernel_17372\\4218711927.py\u001b[0m in \u001b[0;36m<module>\u001b[1;34m\u001b[0m\n\u001b[0;32m     17\u001b[0m \u001b[0mperson\u001b[0m\u001b[1;33m(\u001b[0m\u001b[1;33m)\u001b[0m\u001b[1;33m\u001b[0m\u001b[1;33m\u001b[0m\u001b[0m\n\u001b[0;32m     18\u001b[0m \u001b[1;31m# details()\u001b[0m\u001b[1;33m\u001b[0m\u001b[1;33m\u001b[0m\u001b[0m\n\u001b[1;32m---> 19\u001b[1;33m \u001b[0mself\u001b[0m\u001b[1;33m.\u001b[0m\u001b[0mage\u001b[0m\u001b[1;33m\u001b[0m\u001b[1;33m\u001b[0m\u001b[0m\n\u001b[0m\u001b[0;32m     20\u001b[0m \u001b[0mself\u001b[0m\u001b[1;33m.\u001b[0m\u001b[0meducation\u001b[0m\u001b[1;33m\u001b[0m\u001b[1;33m\u001b[0m\u001b[0m\n\u001b[0;32m     21\u001b[0m \u001b[1;33m\u001b[0m\u001b[0m\n",
      "\u001b[1;31mNameError\u001b[0m: name 'self' is not defined"
     ]
    }
   ],
   "source": [
    "name = \"abc\"   #---> global variables\n",
    "\n",
    "def person():\n",
    "    address = \"xyz\"               # ---> Local variables  \n",
    "    print(\"The name of person is\",name)\n",
    "\n",
    "class intro:\n",
    "    def __init__(self):\n",
    "        self.age = 20                                  \n",
    "        self.education = \"B.tech\"\n",
    "\n",
    "    def details(self):\n",
    "        print(\"The name of person is\",name)\n",
    "        print(\"Age is\", self.age)\n",
    "        print(\"Qualification is :\",self.education)\n",
    "\n",
    "print(name)\n",
    "person()\n",
    "obj = intro()\n",
    "obj.details()\n",
    "address()\n",
    "self.age\n",
    "self.education\n",
    "\n"
   ]
  },
  {
   "cell_type": "code",
   "execution_count": null,
   "metadata": {},
   "outputs": [],
   "source": []
  }
 ],
 "metadata": {
  "kernelspec": {
   "display_name": "Python 3",
   "language": "python",
   "name": "python3"
  },
  "language_info": {
   "codemirror_mode": {
    "name": "ipython",
    "version": 3
   },
   "file_extension": ".py",
   "mimetype": "text/x-python",
   "name": "python",
   "nbconvert_exporter": "python",
   "pygments_lexer": "ipython3",
   "version": "3.9.13"
  },
  "orig_nbformat": 4
 },
 "nbformat": 4,
 "nbformat_minor": 2
}
