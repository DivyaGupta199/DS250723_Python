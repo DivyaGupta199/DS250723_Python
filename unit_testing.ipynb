{
 "cells": [
  {
   "cell_type": "code",
   "execution_count": null,
   "metadata": {},
   "outputs": [],
   "source": []
  },
  {
   "cell_type": "markdown",
   "metadata": {},
   "source": [
    "Testing : It is  the process of checking the program/software if it is working fine or not. \n",
    "1. Manual testing : done manually\n",
    "2. Automation testing : done by automation"
   ]
  },
  {
   "cell_type": "markdown",
   "metadata": {},
   "source": [
    "1. unit testing : here the developer takes the small piece of code like a function or class and test it to check if there is any error and fix it. \n",
    "python provides a module called unittest for testing the code\n",
    "\n",
    "2. Integration testing : here we integrate all the small units of the code and test the final program if it working fine after integrating everything.\n"
   ]
  },
  {
   "cell_type": "code",
   "execution_count": 1,
   "metadata": {},
   "outputs": [
    {
     "name": "stdout",
     "output_type": "stream",
     "text": [
      "Program is working fine\n"
     ]
    }
   ],
   "source": [
    "def add(a,b):\n",
    "    return a+b\n",
    "\n",
    "addition = add(6,4)\n",
    "if addition == 10:\n",
    "    print(\"Program is working fine\")\n",
    "\n",
    "else:\n",
    "    print(\"There is some error in code\")"
   ]
  },
  {
   "cell_type": "code",
   "execution_count": 6,
   "metadata": {},
   "outputs": [],
   "source": [
    "assert add(9,5) == 14, \"Incorrect output\"\n",
    "\n",
    "# assert - it is a keyword in python which is used for asserting some condition.\n",
    "# syntax - assert condition, \"Message/assertion_error\""
   ]
  },
  {
   "cell_type": "code",
   "execution_count": null,
   "metadata": {},
   "outputs": [],
   "source": [
    "def prime_number(number):\n",
    "    pass\n",
    "\n",
    "assert prime_number(5) == True, \"Error in code\""
   ]
  },
  {
   "cell_type": "code",
   "execution_count": null,
   "metadata": {},
   "outputs": [],
   "source": []
  },
  {
   "cell_type": "markdown",
   "metadata": {},
   "source": [
    "unittest module :  It is a builtin module in python, it helps in testing the single unit of code.\n",
    "it gives three types of output : \n",
    "1. OK - if the condition match\n",
    "2. FAILED - If it does not give the desired output\n",
    "3. ERROR - If some other error occurs while running the code.\n",
    "\n",
    "necessary conditions for unittesting.\n",
    "1. The code that needs to be tested should be written either inside a function or a class\n",
    "2. The testcase should be written using object oriented programming.\n",
    "3. importing unittest module and inheriting TestCase class in the test class we have made.\n"
   ]
  },
  {
   "cell_type": "code",
   "execution_count": 1,
   "metadata": {},
   "outputs": [
    {
     "name": "stderr",
     "output_type": "stream",
     "text": [
      "\n",
      "----------------------------------------------------------------------\n",
      "Ran 0 tests in 0.000s\n",
      "\n",
      "OK\n"
     ]
    }
   ],
   "source": [
    "import unittest\n",
    "\n",
    "def add(a,b):\n",
    "    return a+b\n",
    "\n",
    "class check(unittest.TestCase) :\n",
    "    \n",
    "    def check_add(self):\n",
    "        addition = add(12,13)\n",
    "        self.assertEqual(addition, 20)\n",
    "\n",
    "if __name__ == \"__main__\":\n",
    "    unittest.main(argv = ['ignored'], exit = False)"
   ]
  }
 ],
 "metadata": {
  "kernelspec": {
   "display_name": "Python 3",
   "language": "python",
   "name": "python3"
  },
  "language_info": {
   "codemirror_mode": {
    "name": "ipython",
    "version": 3
   },
   "file_extension": ".py",
   "mimetype": "text/x-python",
   "name": "python",
   "nbconvert_exporter": "python",
   "pygments_lexer": "ipython3",
   "version": "3.9.13"
  },
  "orig_nbformat": 4
 },
 "nbformat": 4,
 "nbformat_minor": 2
}
